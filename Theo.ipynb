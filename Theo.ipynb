{
 "cells": [
  {
   "cell_type": "code",
   "execution_count": 42,
   "metadata": {},
   "outputs": [],
   "source": [
    "from PIL import Image\n",
    "import sys\n",
    "\n",
    "try:\n",
    "    citrouille = Image.open(\"citrouille.jpg\")\n",
    "\n",
    "except IOError:\n",
    "    print(\"Erreur\")\n",
    "    sys.exit(1)\n",
    "    \n",
    "citrouille.show()"
   ]
  },
  {
   "cell_type": "code",
   "execution_count": 43,
   "metadata": {},
   "outputs": [
    {
     "name": "stdout",
     "output_type": "stream",
     "text": [
      "Format: JPEG\n",
      "Size: (800, 533)\n",
      "Mode: RGB\n"
     ]
    }
   ],
   "source": [
    "print(\"Format: {0}\\nSize: {1}\\nMode: {2}\".format(citrouille.format, \n",
    "    citrouille.size, citrouille.mode))"
   ]
  },
  {
   "cell_type": "code",
   "execution_count": 44,
   "metadata": {},
   "outputs": [],
   "source": [
    "recadrer = citrouille.crop((200, 200, 400, 400))\n",
    "recadrer.save('citrouille_recadrer.jpg')"
   ]
  },
  {
   "cell_type": "code",
   "execution_count": 45,
   "metadata": {},
   "outputs": [],
   "source": [
    "rotation = citrouille.rotate(180)\n",
    "rotation.save('citrouille_rotation.jpg')"
   ]
  },
  {
   "cell_type": "code",
   "execution_count": 46,
   "metadata": {},
   "outputs": [],
   "source": [
    "cici = citrouille.convert('LA')\n",
    "cici.save('gris.png')"
   ]
  }
 ],
 "metadata": {
  "kernelspec": {
   "display_name": "Python 3",
   "language": "python",
   "name": "python3"
  },
  "language_info": {
   "codemirror_mode": {
    "name": "ipython",
    "version": 3
   },
   "file_extension": ".py",
   "mimetype": "text/x-python",
   "name": "python",
   "nbconvert_exporter": "python",
   "pygments_lexer": "ipython3",
   "version": "3.7.7"
  }
 },
 "nbformat": 4,
 "nbformat_minor": 4
}
