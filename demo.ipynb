--2020-11-28 20:34:49--  https://uracile.plasmabio.org/user/stu-bim1-12/files/projet_tuto_09/demo.ipynb?_xsrf=2%7Cca13b7cd%7Cc83d5a98f0cfbc3927b6328d787867fb%7C1604156377
Resolving uracile.plasmabio.org (uracile.plasmabio.org)... 81.194.28.250
Connecting to uracile.plasmabio.org (uracile.plasmabio.org)|81.194.28.250|:443... connected.
HTTP request sent, awaiting response... 302 Found
Location: /hub/api/oauth2/authorize?client_id=jupyterhub-user-stu-bim1-12&redirect_uri=%2Fuser%2Fstu-bim1-12%2Foauth_callback&response_type=code&state=eyJ1dWlkIjogImQ2MDZlZWIxZTMzZTQxMmJiMjBiNDcwMTYzZDEzZWQ4IiwgIm5leHRfdXJsIjogIi91c2VyL3N0dS1iaW0xLTEyL2ZpbGVzL3Byb2pldF90dXRvXzA5L2RlbW8uaXB5bmI_X3hzcmY9MiU3Q2NhMTNiN2NkJTdDYzgzZDVhOThmMGNmYmMzOTI3YjYzMjhkNzg3ODY3ZmIlN0MxNjA0MTU2Mzc3In0 [following]
--2020-11-28 20:34:49--  https://uracile.plasmabio.org/hub/api/oauth2/authorize?client_id=jupyterhub-user-stu-bim1-12&redirect_uri=%2Fuser%2Fstu-bim1-12%2Foauth_callback&response_type=code&state=eyJ1dWlkIjogImQ2MDZlZWIxZTMzZTQxMmJiMjBiNDcwMTYzZDEzZWQ4IiwgIm5leHRfdXJsIjogIi91c2VyL3N0dS1iaW0xLTEyL2ZpbGVzL3Byb2pldF90dXRvXzA5L2RlbW8uaXB5bmI_X3hzcmY9MiU3Q2NhMTNiN2NkJTdDYzgzZDVhOThmMGNmYmMzOTI3YjYzMjhkNzg3ODY3ZmIlN0MxNjA0MTU2Mzc3In0
Reusing existing connection to uracile.plasmabio.org:443.
HTTP request sent, awaiting response... 302 Found
Location: /hub/login?next=%2Fhub%2Fapi%2Foauth2%2Fauthorize%3Fclient_id%3Djupyterhub-user-stu-bim1-12%26redirect_uri%3D%252Fuser%252Fstu-bim1-12%252Foauth_callback%26response_type%3Dcode%26state%3DeyJ1dWlkIjogImQ2MDZlZWIxZTMzZTQxMmJiMjBiNDcwMTYzZDEzZWQ4IiwgIm5leHRfdXJsIjogIi91c2VyL3N0dS1iaW0xLTEyL2ZpbGVzL3Byb2pldF90dXRvXzA5L2RlbW8uaXB5bmI_X3hzcmY9MiU3Q2NhMTNiN2NkJTdDYzgzZDVhOThmMGNmYmMzOTI3YjYzMjhkNzg3ODY3ZmIlN0MxNjA0MTU2Mzc3In0 [following]
--2020-11-28 20:34:49--  https://uracile.plasmabio.org/hub/login?next=%2Fhub%2Fapi%2Foauth2%2Fauthorize%3Fclient_id%3Djupyterhub-user-stu-bim1-12%26redirect_uri%3D%252Fuser%252Fstu-bim1-12%252Foauth_callback%26response_type%3Dcode%26state%3DeyJ1dWlkIjogImQ2MDZlZWIxZTMzZTQxMmJiMjBiNDcwMTYzZDEzZWQ4IiwgIm5leHRfdXJsIjogIi91c2VyL3N0dS1iaW0xLTEyL2ZpbGVzL3Byb2pldF90dXRvXzA5L2RlbW8uaXB5bmI_X3hzcmY9MiU3Q2NhMTNiN2NkJTdDYzgzZDVhOThmMGNmYmMzOTI3YjYzMjhkNzg3ODY3ZmIlN0MxNjA0MTU2Mzc3In0
Reusing existing connection to uracile.plasmabio.org:443.
HTTP request sent, awaiting response... 200 OK
Length: 5143 (5.0K) [text/html]
Saving to: ‘demo.ipynb?_xsrf=2|ca13b7cd|c83d5a98f0cfbc3927b6328d787867fb|1604156377’

     0K .....                                                 100% 29.2M=0s

2020-11-28 20:34:49 (29.2 MB/s) - ‘demo.ipynb?_xsrf=2|ca13b7cd|c83d5a98f0cfbc3927b6328d787867fb|1604156377’ saved [5143/5143]

