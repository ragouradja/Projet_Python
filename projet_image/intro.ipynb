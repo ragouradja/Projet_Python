{
 "cells": [
  {
   "cell_type": "markdown",
   "metadata": {},
   "source": [
    "# Manipulation et analyse d'images en Python\n",
    "\n",
    "## Contexte\n",
    "\n",
    "Aujourd’hui les images sont partout au point où elles sont incontournables. Il est donc important de savoir correctement manipuler et analyser une image. Cela peut aller du simple recadrage à l'extraction de caractéristiques bien précises. Donner la définition “d’image” n’est pas simple, nous allons nous limiter à une représentation informatique de l’image. Informatiquement on peut définir une image comme une matrice de pixels. La plupart des formats d’image stockent les valeurs des pixels sous forme d’entiers, généralement il s’agit d’entiers codés sur 8 bits. \n",
    "\n",
    "Nous allons découvrir les outils de traitement d’image disponibles dans l’écosystème Python. Python, au travers de différents modules, permet de manipuler et d’analyser les images. A l’issue de ce projet nous serons capable grâce à la programmation d’améliorer la qualité d’une image, d’en extraire des caractéristiques et plus généralement de modifier une image.\n",
    "\n",
    "## Objectif du projet\n",
    "\n",
    "Le but du projet est de manipuler des images afin de les analyser avec Python. Pour cela, on a plusieurs bibliothèques à dispositions, de cette façon, on aura une vue d’ensemble sur ce qu’on peut faire avec Python en terme d’analyse d’image. On pourra voir ce que propose chaque bibliothèque et ainsi déterminer laquelle est la plus adaptée pour répondre à certaines problématiques qu’on va essayer de se poser pour chaque bibliothèque."
   ]
  },
  {
   "cell_type": "markdown",
   "metadata": {},
   "source": [
    "# Présentation des bibliothèques"
   ]
  },
  {
   "cell_type": "markdown",
   "metadata": {},
   "source": [
    "# Numpy\n",
    "\n",
    "Numpy est un module très répendu dans les travaux scientifiques car il permet d'effectuer des opérations sur des matrices multidimensionnels.\n",
    "\n",
    "Il y a beaucoup de Bibliothèques qui sont basées sur Numpy comme **SciPy** qui est un ensemble de bibliothèques Python à usage scientifque.\n",
    "\n",
    "Les tableaux ou matrices ont une très grande place dans la programmation peu importe le langage, donc Numpy est un outil très utile pour manipuler les données, et ici, on va l'utiliser pour manipuler des images car les images sont des tableaux de valeurs. \n",
    "On peut donc réaliser des opérations sur ces images pour les modifier."
   ]
  },
  {
   "cell_type": "markdown",
   "metadata": {},
   "source": [
    "# Matplotlib\n",
    "\n",
    "Matplotlib est une bibliothèque également très utilisé dans ce qui est représentation graphique de données.\n",
    "On peut combiner cette bibliothèque avec Numpy et pleins d'autres.\n",
    "\n",
    "C'est un outil très puissant qui permet également de faire des représentations 3D de fonction.\n",
    "Ce module permet d'exporter les résultats en de nombreux formats matriciels (PNG,JPEG), mais également vectoriels, en PDF par exemple.\n",
    "\n",
    "Il peut afficher des images sous forme de graphique, c'est pourquoi il peut être utilisé pour travailler avec les images."
   ]
  },
  {
   "cell_type": "markdown",
   "metadata": {},
   "source": [
    "## Skimage\n",
    "\n",
    "Skimage ou Scikit-image, est un package Python open source conçu pour le prétraitement d'image. Nous allons beaucoup utilisé Scikit-image2 qui est une bibliothèque libre comprenant une large collection d'algorithme pour le traitement d'images en Python.\n",
    "Les deux sont des bibliothèque de traitement d'images qui permettent de réaliser des opérations basiques sur les images comme du rognage, changer les couleurs, afficher les images...\n",
    "\n",
    "Scikit-image est plus utilisé dans des projets de machines learning, par exemple la détection de forme dans une image.\n",
    "\n",
    "Dans notre démonstration, nous montrerons une détection de visage sur une image en utilisant scikit-image.\n"
   ]
  },
  {
   "cell_type": "markdown",
   "metadata": {},
   "source": [
    "# Pillow\n",
    "\n",
    "Pillow est une bibliothèque de manipulation d'images en Python, il s'agit d'un fork de PIL (Python Imaging Library). Un fork signifie qu'il s'agit de la copie d'un répertoire, ici le répertoire PIL, cela permet de tester des modifications dans le code sans pour autant modifier le projet d'origine. Ainsi Pillow est en quelque sorte une extension de PIL et est disponible librement selon les termes de la Python Imaging Library license. Pillow 1.0 a été mis en ligne le 31 juillet 2010 par Alex Clark and Contributors et son développement est supporté par Tidelift.\n",
    "\n",
    "\n",
    "Un premier point est que la bibliothèque Pillow utilise le principe d'image matricielle. Une image matricielle peut être représentée comme une \"carte de points\", chaque élément de la matrice représente un point avec une couleur associée. Une image est donc formée d'un ensemble de points de couleurs contenus dans un tableau (matrice). Au sein de l'image matricielle les points de couleurs sont des pixels (picture elements), le fait de juxtaposer ces points de couleurs permet une reproduction fidèle de l'image.\n",
    "\n",
    "Le principe d'image matricielle s'oppose au principe d'image vectorielle. Une image vectorielle est composée d'éléments géométriques (droites, polygones ...)avec différentes caractéristiques (forme, couleur ...). L'avantage principal d'une image vectorielle par rapport à une image matricielle est qu'elle est redimensionnable sans perte de qualité.\n",
    "\n",
    "\n",
    "## Différence entre Pillow et Scikit-image\n",
    "\n",
    "Scikit-image et Pillow sont 2 bibliothèques de traitements d'images avec leurs points communs et leurs différences. Premièrement, Scikit-image fonctionne avec les tableaux numpy là où ils ne sont pas nécessaires avec Pillow. Ensuite Scikit-image est plus spécialisée que Pillow, en effet, Scikit-image contient des algorithmes et des fonctions spécialement créés pour des applications dans la recherche, l’éducation ou encore l'industrie. Là où Pillow, malgré que se soit une bibliothèque qui permette des manipulations d'images avancées, est plus généraliste et convient mieux pour ceux qui découvrent l’écosystème de Python.\n"
   ]
  },
  {
   "cell_type": "markdown",
   "metadata": {},
   "source": [
    "# Ressources\n",
    "\n",
    "Présentations de quelques fonctionnalités générales de Matplotlib comme l'ouverture d'image, la sauvegarde de fichiers. Ce lien explique également comment réaliser ces opérations avec Pillow et explique comment on peut créer une image à partir de rien : [Ressource de Matplotlib et Pillow](https://ensip.gitlab.io/pages-info/ressources/transverse/tuto_images.html?fbclid=IwAR1fe-Mr9eMvHg6-kev7D9UD0pM_Y3sPb6GMwfv3UeqBahqMYZJ2G9TvBYg)\n",
    "\n",
    "\n",
    "Lien intéressant qui traite la partie des masques avec Numpy notamment comment rendre une image en couleur en niveau de gris, ou inverser les couleurs. Ce lien est bien pour apprendre car il nous demander de compléter le code proposé pour voir si on comprend bien les concepts : [Numpy](https://www.codingame.com/playgrounds/53303/apprendre-python-dans-le-secondaire/manipulations-dimages-i)\n",
    "\n",
    "Lien en anglais qui explique comment est codé une image, les couleurs et explique aussi comment manipuler les images avec Pillow : [Pillow](https://automatetheboringstuff.com/chapter17/)\n",
    "\n",
    "Tutoriel de traitement d'images avec Numpy et Scikit image, on voit ici quelques opérations comme le filtrage avec skimage, la manipulation d'image : [Scikit image](https://python-prepa.github.io/ateliers/image_tuto.html)\n",
    "\n",
    "Vidéo YouTube réalisant un tutoriel sur le traitement d'image avec Python en utilisant Pillow, Matplotlib, Numpy et présente des opérations comme le rognage, les rotations ... : [Tuto sur les bases de Pillow](https://youtu.be/dkp4wUhCwR4)\n",
    "\n",
    "Documentation sur le module Pillow, utile pour avoir de l'aide sur certaines fonctions ou méthode de Pillow : [Documentation du module Image de Pillow](https://pillow.readthedocs.io/en/stable/reference/Image.html)\n",
    "\n",
    "\n",
    "Site officiel de skimage, mises à jour et nouveautés sont régulièrement postées : [Pour plus d'informations sur scikit-image](https://scikit-image.org/)"
   ]
  }
 ],
 "metadata": {
  "kernelspec": {
   "display_name": "Python 3",
   "language": "python",
   "name": "python3"
  },
  "language_info": {
   "codemirror_mode": {
    "name": "ipython",
    "version": 3
   },
   "file_extension": ".py",
   "mimetype": "text/x-python",
   "name": "python",
   "nbconvert_exporter": "python",
   "pygments_lexer": "ipython3",
   "version": "3.7.7"
  }
 },
 "nbformat": 4,
 "nbformat_minor": 4
}
