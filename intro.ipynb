{
 "cells": [
  {
   "cell_type": "markdown",
   "metadata": {},
   "source": [
    "# Manipulation et analyse d'images en Python\n",
    "\n",
    "## Contexte\n",
    "\n",
    "Aujourd’hui les images sont partout au point où elles sont incontournable. Il est donc important de savoir correctement manipuler et analyser une image. Cela peut aller du simple recadrage à l'extraction de caractéristiques bien précises. Donner la définition “d’image” n’est pas simple, nous allons nous limiter à une représentation informatique de l’image. Informatiquement on peut définir une image comme une matrice de pixels. La plupart des formats d’image stockent les valeurs des pixels sous forme d’entiers, généralement il s’agit d’entier codé sur 8 bits. \n",
    "\n",
    "Nous allons découvrir les outils de traitement d’image disponible dans l’écosystème Python. Python, au travers de différents modules, permet de manipuler et d’analyser les images. A l’issue de ce projet nous serons capable grâce à la programmation d’améliorer la qualité d’une image, d’en extraire des caractéristiques et plus généralement de modifier une image.\n",
    "\n",
    "## Objectif du projet\n",
    "\n",
    "Le but du projet est de manipuler des images afin de les analyser avec Python. Pour cela, on a plusieurs bibliothèques à dispositions, de cette façon, on aura une vue d’ensemble sur ce qu’on peut faire avec Python en termes d’analyse d’image.\n",
    "\n",
    "On pourra voir ce que propose chaque bibliothèque et ainsi déterminer laquelle est la plus adaptée pour répondre à certaines problématiques qu’on va essayer de se poser pour chaque bibliothèque.\n",
    "\n",
    "La bibliothèque Pillow permet d’ouvrir, de manipuler et d'enregistrement des images. Il est par exemple possible de lire une image JPG et l'afficher dans une application externe. Il est également possible de rendre une image flou, de la convertir en noir et blanc, de recadrer une image …\n",
    "\n",
    "La bibliothèque scikit-image permet la segmentation, la transformation géométriques, la manipulation de l'espace colorimétrique, l'analyse, le filtrage, la morphologie … de l’image. scikit-image est un package Python de traitement d'image qui fonctionne avec des numpy tableaux. Le package est importé en tant que skimage.\n",
    "\n",
    "\n"
   ]
  },
  {
   "cell_type": "markdown",
   "metadata": {},
   "source": [
    "# Ressources\n",
    "\n",
    "\n",
    "[Ressource de Matplotlib](https://ensip.gitlab.io/pages-info/ressources/transverse/tuto_images.html?fbclid=IwAR1fe-Mr9eMvHg6-kev7D9UD0pM_Y3sPb6GMwfv3UeqBahqMYZJ2G9TvBYg)\n",
    "\n",
    "[Numpy](https://www.codingame.com/playgrounds/53303/apprendre-python-dans-le-secondaire/manipulations-dimages-i)\n",
    "\n",
    "[Pillow](https://automatetheboringstuff.com/chapter17/)\n",
    "\n",
    "[Scikit image](https://python-prepa.github.io/ateliers/image_tuto.html)\n",
    "\n",
    "[Tuto sur les bases de Pillow](https://youtu.be/dkp4wUhCwR4)\n",
    "\n",
    "[Documentation du module Image de Pillow](https://pillow.readthedocs.io/en/stable/reference/Image.html)"
   ]
  }
 ],
 "metadata": {
  "kernelspec": {
   "display_name": "Python 3",
   "language": "python",
   "name": "python3"
  },
  "language_info": {
   "codemirror_mode": {
    "name": "ipython",
    "version": 3
   },
   "file_extension": ".py",
   "mimetype": "text/x-python",
   "name": "python",
   "nbconvert_exporter": "python",
   "pygments_lexer": "ipython3",
   "version": "3.7.7"
  }
 },
 "nbformat": 4,
 "nbformat_minor": 4
}
